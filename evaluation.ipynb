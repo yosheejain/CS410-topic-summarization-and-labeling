{
 "cells": [
  {
   "cell_type": "code",
   "execution_count": 19,
   "metadata": {},
   "outputs": [
    {
     "name": "stdout",
     "output_type": "stream",
     "text": [
      "Levenshtein Distance: 3\n",
      "Semantic Similarity: 0.57\n"
     ]
    }
   ],
   "source": [
    "# implement semantic similarity evaluation between two strings using edit distance                          \n",
    "import Levenshtein\n",
    "\n",
    "# Input strings\n",
    "string1 = \"kitten\"\n",
    "string2 = \"sitting\"\n",
    "\n",
    "# Calculate Levenshtein distance\n",
    "distance = Levenshtein.distance(string1, string2)\n",
    "\n",
    "# Calculate semantic similarity\n",
    "max_len = max(len(string1), len(string2))\n",
    "similarity = 1 - (distance / max_len) if max_len > 0 else 1.0\n",
    "\n",
    "# Output results\n",
    "print(f\"Levenshtein Distance: {distance}\")\n",
    "print(f\"Semantic Similarity: {similarity:.2f}\")\n"
   ]
  },
  {
   "cell_type": "code",
   "execution_count": 20,
   "metadata": {},
   "outputs": [
    {
     "name": "stdout",
     "output_type": "stream",
     "text": [
      "BLEU Score (sacrebleu): 38.2603\n",
      "ROUGE-1: 0.7500\n",
      "ROUGE-2: 0.4286\n",
      "ROUGE-L: 0.7500\n"
     ]
    }
   ],
   "source": [
    "import sacrebleu\n",
    "from rouge import Rouge\n",
    "\n",
    "# Input strings\n",
    "reference = \"The cat is sitting on the mat.\"\n",
    "candidate = \"The feline is sitting on the carpet.\"\n",
    "\n",
    "# SacreBLEU Calculation\n",
    "bleu = sacrebleu.sentence_bleu(candidate, [reference]).score\n",
    "\n",
    "# ROUGE Score Calculation\n",
    "rouge = Rouge()\n",
    "reference_sent = reference + \" .\"  # Add period to make it a valid sentence\n",
    "candidate_sent = candidate + \" .\"\n",
    "scores = rouge.get_scores(candidate_sent, reference_sent, avg=True)\n",
    "\n",
    "# Output Results\n",
    "print(f\"BLEU Score (sacrebleu): {bleu:.4f}\")\n",
    "print(f\"ROUGE-1: {scores['rouge-1']['f']:.4f}\")  # F1 Score for ROUGE-1\n",
    "print(f\"ROUGE-2: {scores['rouge-2']['f']:.4f}\")  # F1 Score for ROUGE-2\n",
    "print(f\"ROUGE-L: {scores['rouge-l']['f']:.4f}\")  # F1 Score for ROUGE-L\n"
   ]
  }
 ],
 "metadata": {
  "kernelspec": {
   "display_name": "Python 3",
   "language": "python",
   "name": "python3"
  },
  "language_info": {
   "codemirror_mode": {
    "name": "ipython",
    "version": 3
   },
   "file_extension": ".py",
   "mimetype": "text/x-python",
   "name": "python",
   "nbconvert_exporter": "python",
   "pygments_lexer": "ipython3",
   "version": "3.12.0"
  }
 },
 "nbformat": 4,
 "nbformat_minor": 2
}
